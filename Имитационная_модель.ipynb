{
  "nbformat": 4,
  "nbformat_minor": 0,
  "metadata": {
    "colab": {
      "name": "Имитационная модель.ipynb",
      "provenance": [],
      "collapsed_sections": [],
      "authorship_tag": "ABX9TyNTYKKMgC1b5D3B0uWqc+vG",
      "include_colab_link": true
    },
    "kernelspec": {
      "name": "python3",
      "display_name": "Python 3"
    }
  },
  "cells": [
    {
      "cell_type": "markdown",
      "metadata": {
        "id": "view-in-github",
        "colab_type": "text"
      },
      "source": [
        "<a href=\"https://colab.research.google.com/github/alex-hse-repository/Information_System/blob/main/%D0%98%D0%BC%D0%B8%D1%82%D0%B0%D1%86%D0%B8%D0%BE%D0%BD%D0%BD%D0%B0%D1%8F_%D0%BC%D0%BE%D0%B4%D0%B5%D0%BB%D1%8C.ipynb\" target=\"_parent\"><img src=\"https://colab.research.google.com/assets/colab-badge.svg\" alt=\"Open In Colab\"/></a>"
      ]
    },
    {
      "cell_type": "markdown",
      "metadata": {
        "id": "CgpwrfpqPftf"
      },
      "source": [
        "# Библиотеки"
      ]
    },
    {
      "cell_type": "code",
      "metadata": {
        "id": "EVwSgwm3OyEw"
      },
      "source": [
        "import random\r\n",
        "import numpy as np\r\n",
        "import pandas as pd\r\n",
        "import matplotlib.pyplot as plt\r\n",
        "np.random.seed(42)\r\n",
        "\r\n",
        "from scipy.stats import expon\r\n",
        "from scipy.stats import chisquare"
      ],
      "execution_count": 1,
      "outputs": []
    },
    {
      "cell_type": "markdown",
      "metadata": {
        "id": "Mfw83AfzPlyX"
      },
      "source": [
        "# Класс симмуляционной модели"
      ]
    },
    {
      "cell_type": "code",
      "metadata": {
        "id": "drk1XDWcJY3T"
      },
      "source": [
        "class Statistics:\r\n",
        "    def __init__(self, N, k):\r\n",
        "        self.utilization = 0\r\n",
        "        self.utilizations = np.zeros(N)\r\n",
        "        \r\n",
        "        self.lost_customers = np.zeros(k,dtype=int)\r\n",
        "        self.served_customers = np.zeros(k,dtype=int)\r\n",
        "        self.cutomers_num = 0\r\n",
        "\r\n",
        "        self.lost_probs = np.zeros(k)\r\n",
        "        self.destribution = {}\r\n",
        "\r\n",
        "        self.arrivals = [[],[],[]]\r\n",
        "        self.intervals = [[],[],[]]\r\n",
        "\r\n",
        "        \r\n",
        "    def lose(self,client_type):\r\n",
        "        self.lost_customers[client_type]+=1\r\n",
        "    def serve(self,client_type):\r\n",
        "        self.served_customers[client_type]+=1 \r\n",
        "    def arrive(self,client_type,time):\r\n",
        "        self.arrivals[client_type].append(time)\r\n",
        "        self.arrivals[-1].append(time)      \r\n",
        "\r\n",
        "    def count_stats(self,duaration):\r\n",
        "        #self.utilisations = np.sum(self.service_times,axis=1)/duaration\r\n",
        "        #self.utilization = np.mean(self.utilizations)\r\n",
        "        #self.cutomers_num = np.sum(self.lost_customers)+np.sum(np.sum(self.served_customers))\r\n",
        "\r\n",
        "        #Расчет интервалов прибытия\r\n",
        "        for i in range(3): \r\n",
        "            self.intervals[i] = np.array(self.arrivals[i])[1:]-np.array(self.arrivals[i])[:-1]\r\n",
        "        \r\n",
        "        #Расчет вероятностей потерь\r\n",
        "        self.cutomers_num = self.lost_customers+self.served_customers\r\n",
        "        self.lost_probs = self.lost_customers/self.cutomers_num\r\n",
        "\r\n",
        "        #Нормализация распределения\r\n",
        "        total = 0\r\n",
        "        for state in self.destribution:\r\n",
        "            total+=self.destribution[state]\r\n",
        "        for state in self.destribution:\r\n",
        "            self.destribution[state]/=total\r\n",
        "\r\n",
        "    def update_destribution(self,cur_state):\r\n",
        "        if(cur_state in self.destribution):\r\n",
        "            self.destribution[cur_state]+=1\r\n",
        "        else:\r\n",
        "            self.destribution[cur_state]=1"
      ],
      "execution_count": 11,
      "outputs": []
    },
    {
      "cell_type": "code",
      "metadata": {
        "id": "T0y2rJUc94uo"
      },
      "source": [
        "class Simulation:\r\n",
        "    def __init__(self,N,g,lambdas,mus,duaration):\r\n",
        "        self.N = N\r\n",
        "        self.g = g\r\n",
        "        self.k = len(mus)\r\n",
        "        self.stats = Statistics(N,self.k)\r\n",
        "        self.clock = 0.0\r\n",
        "        self.duaration = duaration\r\n",
        "        self.reserved = N-g\r\n",
        "        self.lambdas = lambdas\r\n",
        "        self.mus = mus\r\n",
        "        self.X = np.zeros(self.k,dtype=int)\r\n",
        "        self.arrival_evt = self.gen_arrival()\r\n",
        "        self.servers = np.array([{'client_type':-1,'time':np.inf} for _ in range(N)])\r\n",
        "\r\n",
        "    def arrival(self):\r\n",
        "        client_type = self.arrival_evt['client_type']\r\n",
        "        time = self.arrival_evt['time']\r\n",
        "        self.stats.arrive(client_type,time)\r\n",
        "        if(self.arrival_is_possible(client_type)):\r\n",
        "            self.stats.serve(client_type)\r\n",
        "            server_id = self.get_server()\r\n",
        "            self.X[client_type]+=1\r\n",
        "            self.servers[server_id] = {'client_type':client_type,'time':self.gen_departure(client_type)}\r\n",
        "        else:\r\n",
        "            self.stats.lose(client_type)\r\n",
        "        self.arrival_evt = self.gen_arrival()\r\n",
        "    \r\n",
        "    def departure(self,server_id):\r\n",
        "        client_type = self.servers[server_id]['client_type']\r\n",
        "        self.X[client_type]-=1\r\n",
        "        self.servers[server_id] = {'client_type':-1,'time':np.inf}        \r\n",
        "\r\n",
        "    def arrival_is_possible(self,client_type):\r\n",
        "        free = self.N-np.sum(self.X)\r\n",
        "        if(client_type==0):\r\n",
        "            return free>self.reserved\r\n",
        "        return free>0    \r\n",
        "    def get_server(self):\r\n",
        "        for server_id in range(self.N):\r\n",
        "            if(self.servers[server_id]['client_type']==-1):\r\n",
        "                return server_id\r\n",
        "\r\n",
        "    def gen_arrival(self):\r\n",
        "        times = self.clock+np.random.exponential(self.lambdas,size=len(self.lambdas))\r\n",
        "        client_type = np.argmin(times)\r\n",
        "        time = times[client_type]\r\n",
        "        return {'client_type':client_type,'time':time}\r\n",
        "    def gen_departure(self,client_type):\r\n",
        "        time = self.clock+np.random.exponential(self.mus[client_type])\r\n",
        "        return time    \r\n",
        "\r\n",
        "    def next_arrival(self):\r\n",
        "        return self.arrival_evt\r\n",
        "    def next_departure(self):\r\n",
        "        best = 0\r\n",
        "        for server_id in range(self.N):\r\n",
        "            time = self.servers[server_id]['time'] \r\n",
        "            min_time = self.servers[best]['time']\r\n",
        "            if(time<min_time):\r\n",
        "                best = server_id\r\n",
        "        return {'server_id':best,'time':self.servers[best]['time']}\r\n",
        "    def next_event(self):  \r\n",
        "        arrival_evt = self.next_arrival()\r\n",
        "        departure_evt = self.next_departure()                                              \r\n",
        "        if(arrival_evt['time']<departure_evt['time']):\r\n",
        "            self.arrival()\r\n",
        "        else:\r\n",
        "            self.departure(departure_evt['server_id'])\r\n",
        "        self.clock = min(arrival_evt['time'],departure_evt['time'])    \r\n",
        "     \r\n",
        "    def run(self):\r\n",
        "        print('Simulation for N = {}, g = {}:'.format(self.N,self.g))\r\n",
        "        t = 1\r\n",
        "        while(self.clock<self.duaration):\r\n",
        "            self.next_event()\r\n",
        "            if(self.clock>t*10):\r\n",
        "                t+=1\r\n",
        "                print('cur_time: ',self.clock)\r\n",
        "            cur_state = str(self.X)[1:-1] \r\n",
        "            self.stats.update_destribution(cur_state)\r\n",
        "        self.stats.count_stats(duaration)\r\n"
      ],
      "execution_count": 15,
      "outputs": []
    },
    {
      "cell_type": "markdown",
      "metadata": {
        "id": "zWeBPrmmKLBA"
      },
      "source": [
        "* Симуляция"
      ]
    },
    {
      "cell_type": "code",
      "metadata": {
        "colab": {
          "base_uri": "https://localhost:8080/",
          "height": 433
        },
        "id": "j-AcGJ4lHOK9",
        "outputId": "d5eb3747-fffa-46a5-a1d6-105edf6ac05c"
      },
      "source": [
        "N = 100 # Количество серверов\r\n",
        "gs = [10,20,50,80,100] # Количество полнодоступных серверов\r\n",
        "lambdas = 1/np.array([1000,500]) # Парамтры входных потоков\r\n",
        "mus = 1/np.array([10,15]) # Параметры выходных потоков\r\n",
        "duaration = 100 # Длительность симуляциии\r\n",
        "probs = {'B1':[],'B2':[],'B':[]} # Вероятности потери клиентов\r\n",
        "for g in gs:\r\n",
        "    sim = Simulation(N,g,lambdas,mus,duaration)\r\n",
        "    sim.run()\r\n",
        "    prob = sim.stats.lost_probs\r\n",
        "    probs['B1'].append(prob[0])\r\n",
        "    probs['B2'].append(prob[1])\r\n",
        "    probs['B'].append(np.sum(prob))"
      ],
      "execution_count": 16,
      "outputs": [
        {
          "output_type": "stream",
          "text": [
            "Simulation for N = 100, g = 10:\n",
            "cur_time:  10.000389814539087\n",
            "cur_time:  20.000876847875993\n"
          ],
          "name": "stdout"
        },
        {
          "output_type": "error",
          "ename": "KeyboardInterrupt",
          "evalue": "ignored",
          "traceback": [
            "\u001b[0;31m---------------------------------------------------------------------------\u001b[0m",
            "\u001b[0;31mKeyboardInterrupt\u001b[0m                         Traceback (most recent call last)",
            "\u001b[0;32m<ipython-input-16-29ce1c0cbaa6>\u001b[0m in \u001b[0;36m<module>\u001b[0;34m()\u001b[0m\n\u001b[1;32m      7\u001b[0m \u001b[0;32mfor\u001b[0m \u001b[0mg\u001b[0m \u001b[0;32min\u001b[0m \u001b[0mgs\u001b[0m\u001b[0;34m:\u001b[0m\u001b[0;34m\u001b[0m\u001b[0;34m\u001b[0m\u001b[0m\n\u001b[1;32m      8\u001b[0m     \u001b[0msim\u001b[0m \u001b[0;34m=\u001b[0m \u001b[0mSimulation\u001b[0m\u001b[0;34m(\u001b[0m\u001b[0mN\u001b[0m\u001b[0;34m,\u001b[0m\u001b[0mg\u001b[0m\u001b[0;34m,\u001b[0m\u001b[0mlambdas\u001b[0m\u001b[0;34m,\u001b[0m\u001b[0mmus\u001b[0m\u001b[0;34m,\u001b[0m\u001b[0mduaration\u001b[0m\u001b[0;34m)\u001b[0m\u001b[0;34m\u001b[0m\u001b[0;34m\u001b[0m\u001b[0m\n\u001b[0;32m----> 9\u001b[0;31m     \u001b[0msim\u001b[0m\u001b[0;34m.\u001b[0m\u001b[0mrun\u001b[0m\u001b[0;34m(\u001b[0m\u001b[0;34m)\u001b[0m\u001b[0;34m\u001b[0m\u001b[0;34m\u001b[0m\u001b[0m\n\u001b[0m\u001b[1;32m     10\u001b[0m     \u001b[0mprob\u001b[0m \u001b[0;34m=\u001b[0m \u001b[0msim\u001b[0m\u001b[0;34m.\u001b[0m\u001b[0mstats\u001b[0m\u001b[0;34m.\u001b[0m\u001b[0mlost_probs\u001b[0m\u001b[0;34m\u001b[0m\u001b[0;34m\u001b[0m\u001b[0m\n\u001b[1;32m     11\u001b[0m     \u001b[0mprobs\u001b[0m\u001b[0;34m[\u001b[0m\u001b[0;34m'B1'\u001b[0m\u001b[0;34m]\u001b[0m\u001b[0;34m.\u001b[0m\u001b[0mappend\u001b[0m\u001b[0;34m(\u001b[0m\u001b[0mprob\u001b[0m\u001b[0;34m[\u001b[0m\u001b[0;36m0\u001b[0m\u001b[0;34m]\u001b[0m\u001b[0;34m)\u001b[0m\u001b[0;34m\u001b[0m\u001b[0;34m\u001b[0m\u001b[0m\n",
            "\u001b[0;32m<ipython-input-15-e519b19856ce>\u001b[0m in \u001b[0;36mrun\u001b[0;34m(self)\u001b[0m\n\u001b[1;32m     78\u001b[0m                 \u001b[0mt\u001b[0m\u001b[0;34m+=\u001b[0m\u001b[0;36m1\u001b[0m\u001b[0;34m\u001b[0m\u001b[0;34m\u001b[0m\u001b[0m\n\u001b[1;32m     79\u001b[0m                 \u001b[0mprint\u001b[0m\u001b[0;34m(\u001b[0m\u001b[0;34m'cur_time: '\u001b[0m\u001b[0;34m,\u001b[0m\u001b[0mself\u001b[0m\u001b[0;34m.\u001b[0m\u001b[0mclock\u001b[0m\u001b[0;34m)\u001b[0m\u001b[0;34m\u001b[0m\u001b[0;34m\u001b[0m\u001b[0m\n\u001b[0;32m---> 80\u001b[0;31m             \u001b[0mcur_state\u001b[0m \u001b[0;34m=\u001b[0m \u001b[0mstr\u001b[0m\u001b[0;34m(\u001b[0m\u001b[0mself\u001b[0m\u001b[0;34m.\u001b[0m\u001b[0mX\u001b[0m\u001b[0;34m)\u001b[0m\u001b[0;34m[\u001b[0m\u001b[0;36m1\u001b[0m\u001b[0;34m:\u001b[0m\u001b[0;34m-\u001b[0m\u001b[0;36m1\u001b[0m\u001b[0;34m]\u001b[0m\u001b[0;34m\u001b[0m\u001b[0;34m\u001b[0m\u001b[0m\n\u001b[0m\u001b[1;32m     81\u001b[0m             \u001b[0mself\u001b[0m\u001b[0;34m.\u001b[0m\u001b[0mstats\u001b[0m\u001b[0;34m.\u001b[0m\u001b[0mupdate_destribution\u001b[0m\u001b[0;34m(\u001b[0m\u001b[0mcur_state\u001b[0m\u001b[0;34m)\u001b[0m\u001b[0;34m\u001b[0m\u001b[0;34m\u001b[0m\u001b[0m\n\u001b[1;32m     82\u001b[0m         \u001b[0mself\u001b[0m\u001b[0;34m.\u001b[0m\u001b[0mstats\u001b[0m\u001b[0;34m.\u001b[0m\u001b[0mcount_stats\u001b[0m\u001b[0;34m(\u001b[0m\u001b[0mduaration\u001b[0m\u001b[0;34m)\u001b[0m\u001b[0;34m\u001b[0m\u001b[0;34m\u001b[0m\u001b[0m\n",
            "\u001b[0;32m/usr/local/lib/python3.6/dist-packages/numpy/core/arrayprint.py\u001b[0m in \u001b[0;36m_array_str_implementation\u001b[0;34m(a, max_line_width, precision, suppress_small, array2string)\u001b[0m\n\u001b[1;32m   1488\u001b[0m         \u001b[0;32mreturn\u001b[0m \u001b[0m_guarded_repr_or_str\u001b[0m\u001b[0;34m(\u001b[0m\u001b[0mnp\u001b[0m\u001b[0;34m.\u001b[0m\u001b[0mndarray\u001b[0m\u001b[0;34m.\u001b[0m\u001b[0m__getitem__\u001b[0m\u001b[0;34m(\u001b[0m\u001b[0ma\u001b[0m\u001b[0;34m,\u001b[0m \u001b[0;34m(\u001b[0m\u001b[0;34m)\u001b[0m\u001b[0;34m)\u001b[0m\u001b[0;34m)\u001b[0m\u001b[0;34m\u001b[0m\u001b[0;34m\u001b[0m\u001b[0m\n\u001b[1;32m   1489\u001b[0m \u001b[0;34m\u001b[0m\u001b[0m\n\u001b[0;32m-> 1490\u001b[0;31m     \u001b[0;32mreturn\u001b[0m \u001b[0marray2string\u001b[0m\u001b[0;34m(\u001b[0m\u001b[0ma\u001b[0m\u001b[0;34m,\u001b[0m \u001b[0mmax_line_width\u001b[0m\u001b[0;34m,\u001b[0m \u001b[0mprecision\u001b[0m\u001b[0;34m,\u001b[0m \u001b[0msuppress_small\u001b[0m\u001b[0;34m,\u001b[0m \u001b[0;34m' '\u001b[0m\u001b[0;34m,\u001b[0m \u001b[0;34m\"\"\u001b[0m\u001b[0;34m)\u001b[0m\u001b[0;34m\u001b[0m\u001b[0;34m\u001b[0m\u001b[0m\n\u001b[0m\u001b[1;32m   1491\u001b[0m \u001b[0;34m\u001b[0m\u001b[0m\n\u001b[1;32m   1492\u001b[0m \u001b[0;34m\u001b[0m\u001b[0m\n",
            "\u001b[0;32m/usr/local/lib/python3.6/dist-packages/numpy/core/arrayprint.py\u001b[0m in \u001b[0;36marray2string\u001b[0;34m(a, max_line_width, precision, suppress_small, separator, prefix, style, formatter, threshold, edgeitems, sign, floatmode, suffix, legacy)\u001b[0m\n\u001b[1;32m    690\u001b[0m         \u001b[0;32mreturn\u001b[0m \u001b[0;34m\"[]\"\u001b[0m\u001b[0;34m\u001b[0m\u001b[0;34m\u001b[0m\u001b[0m\n\u001b[1;32m    691\u001b[0m \u001b[0;34m\u001b[0m\u001b[0m\n\u001b[0;32m--> 692\u001b[0;31m     \u001b[0;32mreturn\u001b[0m \u001b[0m_array2string\u001b[0m\u001b[0;34m(\u001b[0m\u001b[0ma\u001b[0m\u001b[0;34m,\u001b[0m \u001b[0moptions\u001b[0m\u001b[0;34m,\u001b[0m \u001b[0mseparator\u001b[0m\u001b[0;34m,\u001b[0m \u001b[0mprefix\u001b[0m\u001b[0;34m)\u001b[0m\u001b[0;34m\u001b[0m\u001b[0;34m\u001b[0m\u001b[0m\n\u001b[0m\u001b[1;32m    693\u001b[0m \u001b[0;34m\u001b[0m\u001b[0m\n\u001b[1;32m    694\u001b[0m \u001b[0;34m\u001b[0m\u001b[0m\n",
            "\u001b[0;32m/usr/local/lib/python3.6/dist-packages/numpy/core/arrayprint.py\u001b[0m in \u001b[0;36mwrapper\u001b[0;34m(self, *args, **kwargs)\u001b[0m\n\u001b[1;32m    466\u001b[0m             \u001b[0mrepr_running\u001b[0m\u001b[0;34m.\u001b[0m\u001b[0madd\u001b[0m\u001b[0;34m(\u001b[0m\u001b[0mkey\u001b[0m\u001b[0;34m)\u001b[0m\u001b[0;34m\u001b[0m\u001b[0;34m\u001b[0m\u001b[0m\n\u001b[1;32m    467\u001b[0m             \u001b[0;32mtry\u001b[0m\u001b[0;34m:\u001b[0m\u001b[0;34m\u001b[0m\u001b[0;34m\u001b[0m\u001b[0m\n\u001b[0;32m--> 468\u001b[0;31m                 \u001b[0;32mreturn\u001b[0m \u001b[0mf\u001b[0m\u001b[0;34m(\u001b[0m\u001b[0mself\u001b[0m\u001b[0;34m,\u001b[0m \u001b[0;34m*\u001b[0m\u001b[0margs\u001b[0m\u001b[0;34m,\u001b[0m \u001b[0;34m**\u001b[0m\u001b[0mkwargs\u001b[0m\u001b[0;34m)\u001b[0m\u001b[0;34m\u001b[0m\u001b[0;34m\u001b[0m\u001b[0m\n\u001b[0m\u001b[1;32m    469\u001b[0m             \u001b[0;32mfinally\u001b[0m\u001b[0;34m:\u001b[0m\u001b[0;34m\u001b[0m\u001b[0;34m\u001b[0m\u001b[0m\n\u001b[1;32m    470\u001b[0m                 \u001b[0mrepr_running\u001b[0m\u001b[0;34m.\u001b[0m\u001b[0mdiscard\u001b[0m\u001b[0;34m(\u001b[0m\u001b[0mkey\u001b[0m\u001b[0;34m)\u001b[0m\u001b[0;34m\u001b[0m\u001b[0;34m\u001b[0m\u001b[0m\n",
            "\u001b[0;32m/usr/local/lib/python3.6/dist-packages/numpy/core/arrayprint.py\u001b[0m in \u001b[0;36m_array2string\u001b[0;34m(a, options, separator, prefix)\u001b[0m\n\u001b[1;32m    492\u001b[0m \u001b[0;34m\u001b[0m\u001b[0m\n\u001b[1;32m    493\u001b[0m     \u001b[0;31m# find the right formatting function for the array\u001b[0m\u001b[0;34m\u001b[0m\u001b[0;34m\u001b[0m\u001b[0;34m\u001b[0m\u001b[0m\n\u001b[0;32m--> 494\u001b[0;31m     \u001b[0mformat_function\u001b[0m \u001b[0;34m=\u001b[0m \u001b[0m_get_format_function\u001b[0m\u001b[0;34m(\u001b[0m\u001b[0mdata\u001b[0m\u001b[0;34m,\u001b[0m \u001b[0;34m**\u001b[0m\u001b[0moptions\u001b[0m\u001b[0;34m)\u001b[0m\u001b[0;34m\u001b[0m\u001b[0;34m\u001b[0m\u001b[0m\n\u001b[0m\u001b[1;32m    495\u001b[0m \u001b[0;34m\u001b[0m\u001b[0m\n\u001b[1;32m    496\u001b[0m     \u001b[0;31m# skip over \"[\"\u001b[0m\u001b[0;34m\u001b[0m\u001b[0;34m\u001b[0m\u001b[0;34m\u001b[0m\u001b[0m\n",
            "\u001b[0;31mKeyboardInterrupt\u001b[0m: "
          ]
        }
      ]
    },
    {
      "cell_type": "markdown",
      "metadata": {
        "id": "ndRvNoG2KG1y"
      },
      "source": [
        "* Оценка вероятностей потерь"
      ]
    },
    {
      "cell_type": "code",
      "metadata": {
        "colab": {
          "base_uri": "https://localhost:8080/",
          "height": 79
        },
        "id": "_4XLsvu7Hhff",
        "outputId": "be21a7be-3389-40a5-af97-073813e57676"
      },
      "source": [
        "data = pd.DataFrame(probs)\r\n",
        "data"
      ],
      "execution_count": 14,
      "outputs": [
        {
          "output_type": "execute_result",
          "data": {
            "text/html": [
              "<div>\n",
              "<style scoped>\n",
              "    .dataframe tbody tr th:only-of-type {\n",
              "        vertical-align: middle;\n",
              "    }\n",
              "\n",
              "    .dataframe tbody tr th {\n",
              "        vertical-align: top;\n",
              "    }\n",
              "\n",
              "    .dataframe thead th {\n",
              "        text-align: right;\n",
              "    }\n",
              "</style>\n",
              "<table border=\"1\" class=\"dataframe\">\n",
              "  <thead>\n",
              "    <tr style=\"text-align: right;\">\n",
              "      <th></th>\n",
              "      <th>B1</th>\n",
              "      <th>B2</th>\n",
              "      <th>B</th>\n",
              "    </tr>\n",
              "  </thead>\n",
              "  <tbody>\n",
              "    <tr>\n",
              "      <th>0</th>\n",
              "      <td>0.99994</td>\n",
              "      <td>0.0</td>\n",
              "      <td>0.99994</td>\n",
              "    </tr>\n",
              "  </tbody>\n",
              "</table>\n",
              "</div>"
            ],
            "text/plain": [
              "        B1   B2        B\n",
              "0  0.99994  0.0  0.99994"
            ]
          },
          "metadata": {
            "tags": []
          },
          "execution_count": 14
        }
      ]
    },
    {
      "cell_type": "markdown",
      "metadata": {
        "id": "T0OcHgqsKCYI"
      },
      "source": [
        "* Отрисовка распределения"
      ]
    },
    {
      "cell_type": "code",
      "metadata": {
        "colab": {
          "base_uri": "https://localhost:8080/",
          "height": 283
        },
        "id": "_a-6LYAN8mhB",
        "outputId": "5feab74e-9e89-4374-d8ee-769676dc0062"
      },
      "source": [
        "probs = sim.state.stats.destribution\r\n",
        "x = [key for key in probs]\r\n",
        "y = [probs[key] for key in probs]\r\n",
        "prob = np.sum(y)\r\n",
        "plt.plot([key for key in probs],[probs[key] for key in probs])\r\n",
        "print(probs)"
      ],
      "execution_count": null,
      "outputs": [
        {
          "output_type": "stream",
          "text": [
            "0.9999999999999999\n"
          ],
          "name": "stdout"
        },
        {
          "output_type": "display_data",
          "data": {
            "image/png": "[encoded data removed]",
            "text/plain": [
              "<Figure size 432x288 with 1 Axes>"
            ]
          },
          "metadata": {
            "tags": [],
            "needs_background": "light"
          }
        }
      ]
    }
  ]
}